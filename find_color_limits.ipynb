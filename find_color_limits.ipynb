{
 "cells": [
  {
   "cell_type": "markdown",
   "id": "4ffe99fa",
   "metadata": {},
   "source": [
    "One way to decide which color each pixle is blong to, is to test if a given pixle is fall inside predefind color limits.\n",
    "The following code will show one way for retriving this limits.\n",
    "\n",
    "The steps involved are:\n",
    "\n",
    "1. Sampeling color groups by simply croping colors area (see seperate file ocver `data` directory)\n",
    "2. Estimating mean and std of pixels for each color  group\n",
    "3. Fine tune for upper and lower bounds "
   ]
  },
  {
   "cell_type": "markdown",
   "id": "a7003ca4",
   "metadata": {},
   "source": [
    "import the necessary packages\n",
    "\n"
   ]
  },
  {
   "cell_type": "code",
   "execution_count": 3,
   "id": "66da5a3d",
   "metadata": {},
   "outputs": [],
   "source": [
    "import numpy as np\n",
    "import cv2\n",
    "from matplotlib import pyplot as plt\n",
    "from IPython.display import clear_output\n",
    "from utils import stuck_image_pixels,showimage"
   ]
  },
  {
   "cell_type": "markdown",
   "id": "38b15980",
   "metadata": {},
   "source": [
    "Configs"
   ]
  },
  {
   "cell_type": "code",
   "execution_count": 4,
   "id": "3aec774a",
   "metadata": {},
   "outputs": [],
   "source": [
    "images_dir_path = \"data/orange/\"\n",
    "image = cv2.imread(\"data/mnm_image.png\")[:,:,:]\n",
    "image_hsv = cv2.cvtColor(image, cv2.COLOR_BGR2HSV)\n",
    "\n",
    "\n",
    "color = 'orange'"
   ]
  },
  {
   "cell_type": "markdown",
   "id": "6e2ff7f9",
   "metadata": {},
   "source": [
    "Read all sampled crops and join into one array of pixels"
   ]
  },
  {
   "cell_type": "code",
   "execution_count": 5,
   "id": "4d566384",
   "metadata": {},
   "outputs": [],
   "source": [
    "joined_images = stuck_image_pixels(images_dir_path = images_dir_path)"
   ]
  },
  {
   "cell_type": "markdown",
   "id": "82513873",
   "metadata": {},
   "source": [
    "Estimate mean ans std per chanel"
   ]
  },
  {
   "cell_type": "code",
   "execution_count": 6,
   "id": "478e7a53",
   "metadata": {},
   "outputs": [],
   "source": [
    "average_per_chanel = joined_images.mean(axis=0) \n",
    "std_per_chanel = joined_images.std(axis=0)"
   ]
  },
  {
   "cell_type": "markdown",
   "id": "ab81023e",
   "metadata": {},
   "source": [
    "Run in loop and plot limits effectnes with respect to different confidence interval"
   ]
  },
  {
   "cell_type": "code",
   "execution_count": 8,
   "id": "84a5a1e3",
   "metadata": {},
   "outputs": [],
   "source": [
    "\n",
    "for i in np.arange (start = 0.5 , stop = 30, step =1):\n",
    "    # Get lower and upper bound by moving +- n std from estimated mean \n",
    "    lower_bound = tuple(np.maximum(average_per_chanel - i * std_per_chanel,0).astype(int).tolist() )\n",
    "    upper_bound = tuple(np.minimum(average_per_chanel + i * std_per_chanel,255).astype(int).tolist())\n",
    "\n",
    "\n",
    "    # Using inRange method, to create a mask\n",
    "    mask = cv2.inRange(image_hsv, lower_bound, upper_bound)\n",
    "    \n",
    "    # Apply mask \n",
    "    r =  cv2.bitwise_or(image, image, mask=mask)\n",
    "    stacked_image =  np.hstack([image, r])\n",
    "\n",
    "    # Show origin image asid masked \n",
    "    showimage(stacked_image,color =color , std = i)\n",
    "    clear_output(wait=True)"
   ]
  },
  {
   "cell_type": "markdown",
   "id": "5cea26fd",
   "metadata": {},
   "source": [
    "<p align=\"center\">\n",
    "    <img src=\"https://raw.githubusercontent.com/razisamuely/MnM-candies-detection/main/data/2023-02-08%2018.23.12.gif\"  width=\"650\" height=\"570\">\n",
    "</p>\n"
   ]
  }
 ],
 "metadata": {
  "kernelspec": {
   "display_name": "tevel_env",
   "language": "python",
   "name": "tevel_env"
  },
  "language_info": {
   "codemirror_mode": {
    "name": "ipython",
    "version": 3
   },
   "file_extension": ".py",
   "mimetype": "text/x-python",
   "name": "python",
   "nbconvert_exporter": "python",
   "pygments_lexer": "ipython3",
   "version": "3.8.2"
  }
 },
 "nbformat": 4,
 "nbformat_minor": 5
}
